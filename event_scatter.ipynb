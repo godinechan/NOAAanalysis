{
 "cells": [
  {
   "cell_type": "markdown",
   "metadata": {},
   "source": [
    "# Regression analysis on NOAA's Storm Event database"
   ]
  },
  {
   "cell_type": "markdown",
   "metadata": {},
   "source": [
    "This python code is written to read NOAA's storm event database\n",
    "It creates a dataframe from the list of .csv files and allows the user to investigate how many times a particular type of event happened in the past (Number of events per year) starting from 1950 to 2017"
   ]
  },
  {
   "cell_type": "code",
   "execution_count": 1,
   "metadata": {
    "collapsed": true
   },
   "outputs": [],
   "source": [
    "import numpy as np\n",
    "import pandas as pd\n",
    "import matplotlib.pyplot as plt"
   ]
  },
  {
   "cell_type": "code",
   "execution_count": 2,
   "metadata": {},
   "outputs": [
    {
     "data": {
      "text/plain": [
       "['StormEvents_details-ftp_v1.0_d1950_c20170120.csv',\n",
       " 'StormEvents_details-ftp_v1.0_d1951_c20160223.csv',\n",
       " 'StormEvents_details-ftp_v1.0_d1952_c20170619.csv',\n",
       " 'StormEvents_details-ftp_v1.0_d1953_c20160223.csv',\n",
       " 'StormEvents_details-ftp_v1.0_d1954_c20160223.csv',\n",
       " 'StormEvents_details-ftp_v1.0_d1955_c20160223.csv',\n",
       " 'StormEvents_details-ftp_v1.0_d1956_c20170717.csv',\n",
       " 'StormEvents_details-ftp_v1.0_d1957_c20160223.csv',\n",
       " 'StormEvents_details-ftp_v1.0_d1958_c20160223.csv',\n",
       " 'StormEvents_details-ftp_v1.0_d1959_c20160223.csv',\n",
       " 'StormEvents_details-ftp_v1.0_d1960_c20160223.csv',\n",
       " 'StormEvents_details-ftp_v1.0_d1961_c20160223.csv',\n",
       " 'StormEvents_details-ftp_v1.0_d1962_c20160223.csv',\n",
       " 'StormEvents_details-ftp_v1.0_d1963_c20160223.csv',\n",
       " 'StormEvents_details-ftp_v1.0_d1964_c20160223.csv',\n",
       " 'StormEvents_details-ftp_v1.0_d1965_c20170619.csv',\n",
       " 'StormEvents_details-ftp_v1.0_d1966_c20160223.csv',\n",
       " 'StormEvents_details-ftp_v1.0_d1967_c20160223.csv',\n",
       " 'StormEvents_details-ftp_v1.0_d1968_c20160223.csv',\n",
       " 'StormEvents_details-ftp_v1.0_d1969_c20170717.csv',\n",
       " 'StormEvents_details-ftp_v1.0_d1970_c20160223.csv',\n",
       " 'StormEvents_details-ftp_v1.0_d1971_c20160223.csv',\n",
       " 'StormEvents_details-ftp_v1.0_d1972_c20170717.csv',\n",
       " 'StormEvents_details-ftp_v1.0_d1973_c20160223.csv',\n",
       " 'StormEvents_details-ftp_v1.0_d1974_c20160223.csv',\n",
       " 'StormEvents_details-ftp_v1.0_d1975_c20160223.csv',\n",
       " 'StormEvents_details-ftp_v1.0_d1976_c20160223.csv',\n",
       " 'StormEvents_details-ftp_v1.0_d1977_c20160223.csv',\n",
       " 'StormEvents_details-ftp_v1.0_d1978_c20160223.csv',\n",
       " 'StormEvents_details-ftp_v1.0_d1979_c20160223.csv',\n",
       " 'StormEvents_details-ftp_v1.0_d1980_c20170717.csv',\n",
       " 'StormEvents_details-ftp_v1.0_d1981_c20170717.csv',\n",
       " 'StormEvents_details-ftp_v1.0_d1982_c20160223.csv',\n",
       " 'StormEvents_details-ftp_v1.0_d1983_c20160223.csv',\n",
       " 'StormEvents_details-ftp_v1.0_d1984_c20170717.csv',\n",
       " 'StormEvents_details-ftp_v1.0_d1985_c20160223.csv',\n",
       " 'StormEvents_details-ftp_v1.0_d1986_c20160223.csv',\n",
       " 'StormEvents_details-ftp_v1.0_d1987_c20160223.csv',\n",
       " 'StormEvents_details-ftp_v1.0_d1988_c20170717.csv',\n",
       " 'StormEvents_details-ftp_v1.0_d1989_c20170717.csv',\n",
       " 'StormEvents_details-ftp_v1.0_d1990_c20170717.csv',\n",
       " 'StormEvents_details-ftp_v1.0_d1991_c20170717.csv',\n",
       " 'StormEvents_details-ftp_v1.0_d1992_c20170717.csv',\n",
       " 'StormEvents_details-ftp_v1.0_d1993_c20170717.csv',\n",
       " 'StormEvents_details-ftp_v1.0_d1994_c20170717.csv',\n",
       " 'StormEvents_details-ftp_v1.0_d1995_c20170522.csv',\n",
       " 'StormEvents_details-ftp_v1.0_d1996_c20170717.csv',\n",
       " 'StormEvents_details-ftp_v1.0_d1997_c20170717.csv',\n",
       " 'StormEvents_details-ftp_v1.0_d1998_c20170717.csv',\n",
       " 'StormEvents_details-ftp_v1.0_d1999_c20170717.csv',\n",
       " 'StormEvents_details-ftp_v1.0_d2000_c20170717.csv',\n",
       " 'StormEvents_details-ftp_v1.0_d2001_c20170717.csv',\n",
       " 'StormEvents_details-ftp_v1.0_d2002_c20170717.csv',\n",
       " 'StormEvents_details-ftp_v1.0_d2003_c20170717.csv',\n",
       " 'StormEvents_details-ftp_v1.0_d2004_c20170717.csv',\n",
       " 'StormEvents_details-ftp_v1.0_d2005_c20170717.csv',\n",
       " 'StormEvents_details-ftp_v1.0_d2006_c20170717.csv',\n",
       " 'StormEvents_details-ftp_v1.0_d2007_c20170717.csv',\n",
       " 'StormEvents_details-ftp_v1.0_d2008_c20170718.csv',\n",
       " 'StormEvents_details-ftp_v1.0_d2009_c20170816.csv',\n",
       " 'StormEvents_details-ftp_v1.0_d2010_c20170726.csv',\n",
       " 'StormEvents_details-ftp_v1.0_d2011_c20170519.csv',\n",
       " 'StormEvents_details-ftp_v1.0_d2012_c20170519.csv',\n",
       " 'StormEvents_details-ftp_v1.0_d2013_c20170519.csv',\n",
       " 'StormEvents_details-ftp_v1.0_d2014_c20170718.csv',\n",
       " 'StormEvents_details-ftp_v1.0_d2015_c20170918.csv',\n",
       " 'StormEvents_details-ftp_v1.0_d2016_c20171018.csv',\n",
       " 'StormEvents_details-ftp_v1.0_d2017_c20171018.csv']"
      ]
     },
     "execution_count": 2,
     "metadata": {},
     "output_type": "execute_result"
    }
   ],
   "source": [
    "#Reading a list of names for the text files containing storm event data\n",
    "txtfile = open(\"flist.txt\")\n",
    "flist = txtfile.read().split('\\n')\n",
    "flist=flist[:-1]\n",
    "flist"
   ]
  },
  {
   "cell_type": "code",
   "execution_count": 3,
   "metadata": {},
   "outputs": [
    {
     "name": "stdout",
     "output_type": "stream",
     "text": [
      "Please enter your the event of interest: Tornado\n"
     ]
    }
   ],
   "source": [
    "#Enter the event type you would like to investigate\n",
    "events = input(\"Please enter your the event of interest: \")"
   ]
  },
  {
   "cell_type": "code",
   "execution_count": 4,
   "metadata": {
    "collapsed": true
   },
   "outputs": [],
   "source": [
    "#The event entered will be stored in a dictionary\n",
    "vlist = [events]"
   ]
  },
  {
   "cell_type": "code",
   "execution_count": 5,
   "metadata": {
    "collapsed": true
   },
   "outputs": [],
   "source": [
    "#Composing a dictionary with the names of the lower 48 States\n",
    "slist = ['ALABAMA',\n",
    "'ARIZONA',\n",
    "'ARKANSAS',\n",
    "'CALIFORNIA',\n",
    "'COLORADO',\n",
    "'CONNECTICUT',\n",
    "'DELAWARE',\n",
    "'FLORIDA',\n",
    "'GEORGIA',\n",
    "'IDAHO',\n",
    "'ILLINOIS',\n",
    "'INDIANA',\n",
    "'IOWA',\n",
    "'KANSAS',\n",
    "'KENTUCKY',\n",
    "'LOUISIANA',\n",
    "'MAINE',\n",
    "'MARYLAND',\n",
    "'MASSACHUSETTS',\n",
    "'MICHIGAN',\n",
    "'MINNESOTA',\n",
    "'MISSISSIPPI',\n",
    "'MISSOURI',\n",
    "'MONTANA',\n",
    "'NEBRASKA',\n",
    "'NEVADA',\n",
    "'NEW HAMPSHIRE',\n",
    "'NEW JERSEY',\n",
    "'NEW MEXICO',\n",
    "'NEW YORK',\n",
    "'NORTH CAROLINA',\n",
    "'NORTH DAKOTA',\n",
    "'OHIO',\n",
    "'OKLAHOMA',\n",
    "'OREGON',\n",
    "'PENNSYLVANIA',\n",
    "'RHODE ISLAND',\n",
    "'SOUTH CAROLINA',\n",
    "'SOUTH DAKOTA',\n",
    "'TENNESSEE',\n",
    "'TEXAS',\n",
    "'UTAH',\n",
    "'VERMONT',\n",
    "'VIRGINIA',\n",
    "'WASHINGTON',\n",
    "'WEST VIRGINIA',\n",
    "'WISCONSIN',\n",
    "'WYOMING']"
   ]
  },
  {
   "cell_type": "code",
   "execution_count": 6,
   "metadata": {
    "collapsed": true
   },
   "outputs": [],
   "source": [
    "#Only two columns are needed from the data for this investigation\n",
    "f = ['STATE','EVENT_TYPE']"
   ]
  },
  {
   "cell_type": "code",
   "execution_count": 7,
   "metadata": {},
   "outputs": [],
   "source": [
    "#For loop to generate a dataframe with data from all csv files\n",
    "i=0\n",
    "for file in flist:\n",
    "\tdf=pd.read_csv(file, usecols=f)\n",
    "\tdf=df[df['EVENT_TYPE'].isin(vlist)]\n",
    "\tdf=df[df['STATE'].isin(slist)]\n",
    "\tdf=df.groupby(['STATE']).count()\n",
    "\tdf.columns=[file[30:34]]\n",
    "\tfor j in range(0,47):\n",
    "\t\tif slist[j] not in df.index:\n",
    "\t\t\tdftemp = pd.DataFrame([0], columns=[file[30:34]], index=[slist[j]])\n",
    "\t\t\tdf=pd.concat([df, dftemp])\n",
    "\tdf=df.sort_index()\n",
    "\tif i==0:\n",
    "\t\tfull=df\n",
    "\telse:\n",
    "\t\tfull=full.join(df,  how='outer')\n",
    "\ti+=1\n"
   ]
  },
  {
   "cell_type": "code",
   "execution_count": 8,
   "metadata": {},
   "outputs": [
    {
     "data": {
      "text/html": [
       "<div>\n",
       "<style>\n",
       "    .dataframe thead tr:only-child th {\n",
       "        text-align: right;\n",
       "    }\n",
       "\n",
       "    .dataframe thead th {\n",
       "        text-align: left;\n",
       "    }\n",
       "\n",
       "    .dataframe tbody tr th {\n",
       "        vertical-align: top;\n",
       "    }\n",
       "</style>\n",
       "<table border=\"1\" class=\"dataframe\">\n",
       "  <thead>\n",
       "    <tr style=\"text-align: right;\">\n",
       "      <th></th>\n",
       "      <th>1950</th>\n",
       "      <th>1951</th>\n",
       "      <th>1952</th>\n",
       "      <th>1953</th>\n",
       "      <th>1954</th>\n",
       "      <th>1955</th>\n",
       "      <th>1956</th>\n",
       "      <th>1957</th>\n",
       "      <th>1958</th>\n",
       "      <th>1959</th>\n",
       "      <th>...</th>\n",
       "      <th>2008</th>\n",
       "      <th>2009</th>\n",
       "      <th>2010</th>\n",
       "      <th>2011</th>\n",
       "      <th>2012</th>\n",
       "      <th>2013</th>\n",
       "      <th>2014</th>\n",
       "      <th>2015</th>\n",
       "      <th>2016</th>\n",
       "      <th>2017</th>\n",
       "    </tr>\n",
       "  </thead>\n",
       "  <tbody>\n",
       "    <tr>\n",
       "      <th>ALABAMA</th>\n",
       "      <td>2</td>\n",
       "      <td>5.0</td>\n",
       "      <td>13</td>\n",
       "      <td>22</td>\n",
       "      <td>10</td>\n",
       "      <td>8</td>\n",
       "      <td>7</td>\n",
       "      <td>51</td>\n",
       "      <td>23</td>\n",
       "      <td>9</td>\n",
       "      <td>...</td>\n",
       "      <td>112</td>\n",
       "      <td>91</td>\n",
       "      <td>46</td>\n",
       "      <td>217</td>\n",
       "      <td>67</td>\n",
       "      <td>28</td>\n",
       "      <td>67</td>\n",
       "      <td>35</td>\n",
       "      <td>76</td>\n",
       "      <td>48</td>\n",
       "    </tr>\n",
       "    <tr>\n",
       "      <th>ARIZONA</th>\n",
       "      <td>0</td>\n",
       "      <td>0.0</td>\n",
       "      <td>1</td>\n",
       "      <td>0</td>\n",
       "      <td>2</td>\n",
       "      <td>1</td>\n",
       "      <td>3</td>\n",
       "      <td>5</td>\n",
       "      <td>4</td>\n",
       "      <td>2</td>\n",
       "      <td>...</td>\n",
       "      <td>3</td>\n",
       "      <td>4</td>\n",
       "      <td>12</td>\n",
       "      <td>3</td>\n",
       "      <td>1</td>\n",
       "      <td>1</td>\n",
       "      <td>3</td>\n",
       "      <td>5</td>\n",
       "      <td>1</td>\n",
       "      <td>2</td>\n",
       "    </tr>\n",
       "    <tr>\n",
       "      <th>ARKANSAS</th>\n",
       "      <td>13</td>\n",
       "      <td>3.0</td>\n",
       "      <td>29</td>\n",
       "      <td>11</td>\n",
       "      <td>33</td>\n",
       "      <td>28</td>\n",
       "      <td>17</td>\n",
       "      <td>28</td>\n",
       "      <td>7</td>\n",
       "      <td>12</td>\n",
       "      <td>...</td>\n",
       "      <td>110</td>\n",
       "      <td>59</td>\n",
       "      <td>47</td>\n",
       "      <td>104</td>\n",
       "      <td>23</td>\n",
       "      <td>41</td>\n",
       "      <td>25</td>\n",
       "      <td>21</td>\n",
       "      <td>28</td>\n",
       "      <td>40</td>\n",
       "    </tr>\n",
       "    <tr>\n",
       "      <th>CALIFORNIA</th>\n",
       "      <td>0</td>\n",
       "      <td>1.0</td>\n",
       "      <td>1</td>\n",
       "      <td>2</td>\n",
       "      <td>1</td>\n",
       "      <td>3</td>\n",
       "      <td>2</td>\n",
       "      <td>1</td>\n",
       "      <td>10</td>\n",
       "      <td>1</td>\n",
       "      <td>...</td>\n",
       "      <td>7</td>\n",
       "      <td>2</td>\n",
       "      <td>9</td>\n",
       "      <td>9</td>\n",
       "      <td>12</td>\n",
       "      <td>5</td>\n",
       "      <td>9</td>\n",
       "      <td>10</td>\n",
       "      <td>5</td>\n",
       "      <td>3</td>\n",
       "    </tr>\n",
       "    <tr>\n",
       "      <th>COLORADO</th>\n",
       "      <td>3</td>\n",
       "      <td>8.0</td>\n",
       "      <td>3</td>\n",
       "      <td>14</td>\n",
       "      <td>9</td>\n",
       "      <td>19</td>\n",
       "      <td>10</td>\n",
       "      <td>26</td>\n",
       "      <td>18</td>\n",
       "      <td>1</td>\n",
       "      <td>...</td>\n",
       "      <td>40</td>\n",
       "      <td>46</td>\n",
       "      <td>71</td>\n",
       "      <td>21</td>\n",
       "      <td>34</td>\n",
       "      <td>27</td>\n",
       "      <td>50</td>\n",
       "      <td>57</td>\n",
       "      <td>39</td>\n",
       "      <td>13</td>\n",
       "    </tr>\n",
       "  </tbody>\n",
       "</table>\n",
       "<p>5 rows × 68 columns</p>\n",
       "</div>"
      ],
      "text/plain": [
       "            1950  1951  1952  1953  1954  1955  1956  1957  1958  1959  ...   \\\n",
       "ALABAMA        2   5.0    13    22    10     8     7    51    23     9  ...    \n",
       "ARIZONA        0   0.0     1     0     2     1     3     5     4     2  ...    \n",
       "ARKANSAS      13   3.0    29    11    33    28    17    28     7    12  ...    \n",
       "CALIFORNIA     0   1.0     1     2     1     3     2     1    10     1  ...    \n",
       "COLORADO       3   8.0     3    14     9    19    10    26    18     1  ...    \n",
       "\n",
       "            2008  2009  2010  2011  2012  2013  2014  2015  2016  2017  \n",
       "ALABAMA      112    91    46   217    67    28    67    35    76    48  \n",
       "ARIZONA        3     4    12     3     1     1     3     5     1     2  \n",
       "ARKANSAS     110    59    47   104    23    41    25    21    28    40  \n",
       "CALIFORNIA     7     2     9     9    12     5     9    10     5     3  \n",
       "COLORADO      40    46    71    21    34    27    50    57    39    13  \n",
       "\n",
       "[5 rows x 68 columns]"
      ]
     },
     "execution_count": 8,
     "metadata": {},
     "output_type": "execute_result"
    }
   ],
   "source": [
    "#Dataframe containing the amount of events from 1950 to 2017\n",
    "full.head()"
   ]
  },
  {
   "cell_type": "code",
   "execution_count": 9,
   "metadata": {
    "collapsed": true
   },
   "outputs": [],
   "source": [
    "from sklearn import datasets, linear_model\n",
    "from sklearn.metrics import mean_squared_error, r2_score"
   ]
  },
  {
   "cell_type": "code",
   "execution_count": 10,
   "metadata": {},
   "outputs": [
    {
     "data": {
      "image/png": "[encoded data removed]",
      "text/plain": [
       "<matplotlib.figure.Figure at 0x39c5ef0>"
      ]
     },
     "metadata": {},
     "output_type": "display_data"
    }
   ],
   "source": [
    "#Plot the data and fit a linear regression\n",
    "regr = linear_model.LinearRegression()\n",
    "x=list(range(1950,2017+1))\n",
    "y=full.sum().astype(int)\n",
    "x=np.asarray(x)\n",
    "y=np.asarray(y)\n",
    "x=x.reshape(-1,1)\n",
    "y=y.reshape(-1,1)\n",
    "regr.fit(x, y)\n",
    "y_pred = regr.predict(x)\n",
    "var=np.mean((y-y_pred)**2)\n",
    "fig = plt.figure(figsize=(10,8), dpi=100)\n",
    "plt.scatter(x, y,  color='black')\n",
    "plt.plot(x, y_pred, color='blue', linewidth=3)\n",
    "plt.xlabel('Year')\n",
    "plt.ylabel('Total Number of '+events+' events per year \\n in the lower 48 States')\n",
    "plt.ylim(ymin=0)\n",
    "plt.show()"
   ]
  },
  {
   "cell_type": "code",
   "execution_count": 11,
   "metadata": {},
   "outputs": [
    {
     "name": "stdout",
     "output_type": "stream",
     "text": [
      "Coefficient of determination : 0.59\n"
     ]
    }
   ],
   "source": [
    "#Coefficient of determination of the fitted line\n",
    "print('Coefficient of determination : %.2f' % r2_score(y, y_pred))"
   ]
  }
 ],
 "metadata": {
  "kernelspec": {
   "display_name": "Python 3",
   "language": "python",
   "name": "python3"
  },
  "language_info": {
   "codemirror_mode": {
    "name": "ipython",
    "version": 3
   },
   "file_extension": ".py",
   "mimetype": "text/x-python",
   "name": "python",
   "nbconvert_exporter": "python",
   "pygments_lexer": "ipython3",
   "version": "3.6.3"
  }
 },
 "nbformat": 4,
 "nbformat_minor": 2
}
